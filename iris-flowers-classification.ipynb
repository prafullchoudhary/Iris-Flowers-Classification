{
 "cells": [
  {
   "cell_type": "markdown",
   "metadata": {
    "id": "-4PzNDJNa5_e",
    "papermill": {
     "duration": 0.021431,
     "end_time": "2021-06-16T18:38:20.907036",
     "exception": false,
     "start_time": "2021-06-16T18:38:20.885605",
     "status": "completed"
    },
    "tags": []
   },
   "source": [
    "Here I'm Importing some important Libraries"
   ]
  },
  {
   "cell_type": "code",
   "execution_count": 1,
   "metadata": {
    "execution": {
     "iopub.execute_input": "2021-06-16T18:38:20.957183Z",
     "iopub.status.busy": "2021-06-16T18:38:20.956607Z",
     "iopub.status.idle": "2021-06-16T18:38:20.960351Z",
     "shell.execute_reply": "2021-06-16T18:38:20.959603Z",
     "shell.execute_reply.started": "2021-06-16T18:35:34.987021Z"
    },
    "id": "sgIUQSwT8fVH",
    "papermill": {
     "duration": 0.03219,
     "end_time": "2021-06-16T18:38:20.960561",
     "exception": false,
     "start_time": "2021-06-16T18:38:20.928371",
     "status": "completed"
    },
    "tags": []
   },
   "outputs": [],
   "source": [
    "import pandas as pd\n",
    "import numpy as np"
   ]
  },
  {
   "cell_type": "markdown",
   "metadata": {
    "id": "59oh18O5_oAg",
    "papermill": {
     "duration": 0.020001,
     "end_time": "2021-06-16T18:38:21.000512",
     "exception": false,
     "start_time": "2021-06-16T18:38:20.980511",
     "status": "completed"
    },
    "tags": []
   },
   "source": [
    "The data we will use is the iris dataset. It is included in scikit_learn in the datasets module. We can load it by calling the load_iris function."
   ]
  },
  {
   "cell_type": "code",
   "execution_count": 2,
   "metadata": {
    "execution": {
     "iopub.execute_input": "2021-06-16T18:38:21.046677Z",
     "iopub.status.busy": "2021-06-16T18:38:21.045835Z",
     "iopub.status.idle": "2021-06-16T18:38:22.086492Z",
     "shell.execute_reply": "2021-06-16T18:38:22.085825Z",
     "shell.execute_reply.started": "2021-06-16T18:35:50.567249Z"
    },
    "id": "aSthOKQW_bfN",
    "papermill": {
     "duration": 1.065712,
     "end_time": "2021-06-16T18:38:22.086647",
     "exception": false,
     "start_time": "2021-06-16T18:38:21.020935",
     "status": "completed"
    },
    "tags": []
   },
   "outputs": [],
   "source": [
    "from sklearn.datasets import load_iris\n",
    "iris_dataset = load_iris()"
   ]
  },
  {
   "cell_type": "markdown",
   "metadata": {
    "id": "kLqdAiTsBcNs",
    "papermill": {
     "duration": 0.0187,
     "end_time": "2021-06-16T18:38:22.124683",
     "exception": false,
     "start_time": "2021-06-16T18:38:22.105983",
     "status": "completed"
    },
    "tags": []
   },
   "source": [
    "iris_dataset is similar to a dictionary. Let's check the keys in iris_dataset"
   ]
  },
  {
   "cell_type": "code",
   "execution_count": 3,
   "metadata": {
    "execution": {
     "iopub.execute_input": "2021-06-16T18:38:22.168829Z",
     "iopub.status.busy": "2021-06-16T18:38:22.168012Z",
     "iopub.status.idle": "2021-06-16T18:38:22.171394Z",
     "shell.execute_reply": "2021-06-16T18:38:22.172056Z",
     "shell.execute_reply.started": "2021-06-16T18:35:53.407179Z"
    },
    "id": "_hzfT-1jBOfL",
    "outputId": "563b2125-e446-48d3-d191-87daf9446f43",
    "papermill": {
     "duration": 0.028271,
     "end_time": "2021-06-16T18:38:22.172294",
     "exception": false,
     "start_time": "2021-06-16T18:38:22.144023",
     "status": "completed"
    },
    "tags": []
   },
   "outputs": [
    {
     "name": "stdout",
     "output_type": "stream",
     "text": [
      "Keys of iris_dataset:   \n",
      "dict_keys(['data', 'target', 'frame', 'target_names', 'DESCR', 'feature_names', 'filename'])\n"
     ]
    }
   ],
   "source": [
    "print(\"Keys of iris_dataset:   \\n{}\".format(iris_dataset.keys()))"
   ]
  },
  {
   "cell_type": "markdown",
   "metadata": {
    "id": "U3qb2e2yB9kB",
    "papermill": {
     "duration": 0.019645,
     "end_time": "2021-06-16T18:38:22.212977",
     "exception": false,
     "start_time": "2021-06-16T18:38:22.193332",
     "status": "completed"
    },
    "tags": []
   },
   "source": [
    "The values of the key DESCR is a short description of the dataset."
   ]
  },
  {
   "cell_type": "code",
   "execution_count": 4,
   "metadata": {
    "execution": {
     "iopub.execute_input": "2021-06-16T18:38:22.258500Z",
     "iopub.status.busy": "2021-06-16T18:38:22.257808Z",
     "iopub.status.idle": "2021-06-16T18:38:22.261290Z",
     "shell.execute_reply": "2021-06-16T18:38:22.261872Z",
     "shell.execute_reply.started": "2021-06-16T18:35:55.737512Z"
    },
    "id": "GEYzuvrHCcTc",
    "outputId": "b61a67ba-14c4-41c3-c8ee-0134812fc4dd",
    "papermill": {
     "duration": 0.029109,
     "end_time": "2021-06-16T18:38:22.262172",
     "exception": false,
     "start_time": "2021-06-16T18:38:22.233063",
     "status": "completed"
    },
    "tags": []
   },
   "outputs": [
    {
     "name": "stdout",
     "output_type": "stream",
     "text": [
      ".. _iris_dataset:\n",
      "\n",
      "Iris plants dataset\n",
      "--------------------\n",
      "\n",
      "**Data Set Characteristics:**\n",
      "\n",
      "    :Number of Instances: 150 (50 in each of three classes)\n",
      "    :Number of Attributes: 4 numeric, predictive\n",
      ".....\n"
     ]
    }
   ],
   "source": [
    "print(iris_dataset['DESCR'][:200]+ \"\\n.....\")"
   ]
  },
  {
   "cell_type": "markdown",
   "metadata": {
    "id": "80v-AYsBC1Rx",
    "papermill": {
     "duration": 0.019895,
     "end_time": "2021-06-16T18:38:22.303672",
     "exception": false,
     "start_time": "2021-06-16T18:38:22.283777",
     "status": "completed"
    },
    "tags": []
   },
   "source": [
    "The value of the key target_names contains the species of flowers that we want to predict "
   ]
  },
  {
   "cell_type": "code",
   "execution_count": 5,
   "metadata": {
    "execution": {
     "iopub.execute_input": "2021-06-16T18:38:22.348146Z",
     "iopub.status.busy": "2021-06-16T18:38:22.347509Z",
     "iopub.status.idle": "2021-06-16T18:38:22.353748Z",
     "shell.execute_reply": "2021-06-16T18:38:22.353255Z",
     "shell.execute_reply.started": "2021-06-16T18:36:06.197516Z"
    },
    "id": "-5Ev5bucCsGS",
    "outputId": "5a360be2-a63f-41ce-cd8f-3a9099122e45",
    "papermill": {
     "duration": 0.029158,
     "end_time": "2021-06-16T18:38:22.353900",
     "exception": false,
     "start_time": "2021-06-16T18:38:22.324742",
     "status": "completed"
    },
    "tags": []
   },
   "outputs": [
    {
     "name": "stdout",
     "output_type": "stream",
     "text": [
      "Target names:   ['setosa' 'versicolor' 'virginica']\n"
     ]
    }
   ],
   "source": [
    "print(\"Target names:   {}\".format(iris_dataset['target_names']))"
   ]
  },
  {
   "cell_type": "markdown",
   "metadata": {
    "id": "PQbvSZnwCwj5",
    "papermill": {
     "duration": 0.020514,
     "end_time": "2021-06-16T18:38:22.395697",
     "exception": false,
     "start_time": "2021-06-16T18:38:22.375183",
     "status": "completed"
    },
    "tags": []
   },
   "source": [
    "The value of feature_names contains the features."
   ]
  },
  {
   "cell_type": "code",
   "execution_count": 6,
   "metadata": {
    "execution": {
     "iopub.execute_input": "2021-06-16T18:38:22.444155Z",
     "iopub.status.busy": "2021-06-16T18:38:22.443250Z",
     "iopub.status.idle": "2021-06-16T18:38:22.447101Z",
     "shell.execute_reply": "2021-06-16T18:38:22.447667Z",
     "shell.execute_reply.started": "2021-06-16T18:36:17.152360Z"
    },
    "id": "K1ldvbKwEMqW",
    "outputId": "17026f09-553c-43f9-dd53-5147037f18e3",
    "papermill": {
     "duration": 0.031259,
     "end_time": "2021-06-16T18:38:22.447839",
     "exception": false,
     "start_time": "2021-06-16T18:38:22.416580",
     "status": "completed"
    },
    "tags": []
   },
   "outputs": [
    {
     "name": "stdout",
     "output_type": "stream",
     "text": [
      "Feature names:   \n",
      "['sepal length (cm)', 'sepal width (cm)', 'petal length (cm)', 'petal width (cm)']\n"
     ]
    }
   ],
   "source": [
    "print(\"Feature names:   \\n{}\".format(iris_dataset['feature_names']))"
   ]
  },
  {
   "cell_type": "markdown",
   "metadata": {
    "id": "00sB4LmmDRbv",
    "papermill": {
     "duration": 0.022479,
     "end_time": "2021-06-16T18:38:22.493628",
     "exception": false,
     "start_time": "2021-06-16T18:38:22.471149",
     "status": "completed"
    },
    "tags": []
   },
   "source": [
    " The value of data contains numeric measurements of sepal length,sepal width, petal length and petal width .lets check the type of data"
   ]
  },
  {
   "cell_type": "code",
   "execution_count": 7,
   "metadata": {
    "execution": {
     "iopub.execute_input": "2021-06-16T18:38:22.537668Z",
     "iopub.status.busy": "2021-06-16T18:38:22.536961Z",
     "iopub.status.idle": "2021-06-16T18:38:22.543753Z",
     "shell.execute_reply": "2021-06-16T18:38:22.543148Z",
     "shell.execute_reply.started": "2021-06-16T18:36:20.897002Z"
    },
    "id": "0326aRiADQrk",
    "outputId": "6b368d63-2ea4-4347-ed85-c375bbffc154",
    "papermill": {
     "duration": 0.030215,
     "end_time": "2021-06-16T18:38:22.543896",
     "exception": false,
     "start_time": "2021-06-16T18:38:22.513681",
     "status": "completed"
    },
    "tags": []
   },
   "outputs": [
    {
     "name": "stdout",
     "output_type": "stream",
     "text": [
      "Type of data:   <class 'numpy.ndarray'>\n"
     ]
    }
   ],
   "source": [
    "print(\"Type of data:   {}\".format(type(iris_dataset['data'])))"
   ]
  },
  {
   "cell_type": "markdown",
   "metadata": {
    "id": "g8bTNzYPDSrY",
    "papermill": {
     "duration": 0.020984,
     "end_time": "2021-06-16T18:38:22.586174",
     "exception": false,
     "start_time": "2021-06-16T18:38:22.565190",
     "status": "completed"
    },
    "tags": []
   },
   "source": [
    "The rows of this data array corresponds to the flowers, while the columns represent the four measurements that were taken for each flower.Lets check the shape of data"
   ]
  },
  {
   "cell_type": "code",
   "execution_count": 8,
   "metadata": {
    "execution": {
     "iopub.execute_input": "2021-06-16T18:38:22.635661Z",
     "iopub.status.busy": "2021-06-16T18:38:22.635022Z",
     "iopub.status.idle": "2021-06-16T18:38:22.638830Z",
     "shell.execute_reply": "2021-06-16T18:38:22.638203Z",
     "shell.execute_reply.started": "2021-06-16T18:36:36.196819Z"
    },
    "id": "cZu1_n9TJZ3C",
    "outputId": "575fd880-0135-4626-8bb3-48bb7de459c1",
    "papermill": {
     "duration": 0.030937,
     "end_time": "2021-06-16T18:38:22.638965",
     "exception": false,
     "start_time": "2021-06-16T18:38:22.608028",
     "status": "completed"
    },
    "tags": []
   },
   "outputs": [
    {
     "name": "stdout",
     "output_type": "stream",
     "text": [
      "Shape of data:   (150, 4)\n"
     ]
    }
   ],
   "source": [
    "print(\"Shape of data:   {}\".format(iris_dataset['data'].shape))"
   ]
  },
  {
   "cell_type": "markdown",
   "metadata": {
    "id": "l47XRgYGJo0k",
    "papermill": {
     "duration": 0.021086,
     "end_time": "2021-06-16T18:38:22.681405",
     "exception": false,
     "start_time": "2021-06-16T18:38:22.660319",
     "status": "completed"
    },
    "tags": []
   },
   "source": [
    "We see that the array contains measurements for 150 different flowers.Lets check the feature values of the first five samples"
   ]
  },
  {
   "cell_type": "code",
   "execution_count": 9,
   "metadata": {
    "execution": {
     "iopub.execute_input": "2021-06-16T18:38:22.730050Z",
     "iopub.status.busy": "2021-06-16T18:38:22.729292Z",
     "iopub.status.idle": "2021-06-16T18:38:22.732859Z",
     "shell.execute_reply": "2021-06-16T18:38:22.733273Z",
     "shell.execute_reply.started": "2021-06-16T18:36:45.877916Z"
    },
    "id": "CVMwcHY1JmzQ",
    "outputId": "187f7c5b-ea3d-435d-d17e-df84542a0ea2",
    "papermill": {
     "duration": 0.030445,
     "end_time": "2021-06-16T18:38:22.733447",
     "exception": false,
     "start_time": "2021-06-16T18:38:22.703002",
     "status": "completed"
    },
    "tags": []
   },
   "outputs": [
    {
     "name": "stdout",
     "output_type": "stream",
     "text": [
      "First five columns of data:\n",
      "[[5.1 3.5 1.4 0.2]\n",
      " [4.9 3.  1.4 0.2]\n",
      " [4.7 3.2 1.3 0.2]\n",
      " [4.6 3.1 1.5 0.2]\n",
      " [5.  3.6 1.4 0.2]]\n"
     ]
    }
   ],
   "source": [
    "print(\"First five columns of data:\\n{}\".format(iris_dataset['data'][:5]))"
   ]
  },
  {
   "cell_type": "markdown",
   "metadata": {
    "id": "reSJD-NPK6cS",
    "papermill": {
     "duration": 0.021368,
     "end_time": "2021-06-16T18:38:22.776388",
     "exception": false,
     "start_time": "2021-06-16T18:38:22.755020",
     "status": "completed"
    },
    "tags": []
   },
   "source": [
    "the target contains the species of each of the flowers that were measured.Lets check the type of target\n"
   ]
  },
  {
   "cell_type": "code",
   "execution_count": 10,
   "metadata": {
    "execution": {
     "iopub.execute_input": "2021-06-16T18:38:22.823832Z",
     "iopub.status.busy": "2021-06-16T18:38:22.822942Z",
     "iopub.status.idle": "2021-06-16T18:38:22.829182Z",
     "shell.execute_reply": "2021-06-16T18:38:22.828494Z",
     "shell.execute_reply.started": "2021-06-16T18:36:48.577621Z"
    },
    "id": "p6GzcZfzKfaE",
    "outputId": "0a188896-ccfc-4e27-9641-9b765f7b1e6f",
    "papermill": {
     "duration": 0.030841,
     "end_time": "2021-06-16T18:38:22.829422",
     "exception": false,
     "start_time": "2021-06-16T18:38:22.798581",
     "status": "completed"
    },
    "tags": []
   },
   "outputs": [
    {
     "name": "stdout",
     "output_type": "stream",
     "text": [
      "Type of target:   <class 'numpy.ndarray'>\n"
     ]
    }
   ],
   "source": [
    "print(\"Type of target:   {}\".format(type(iris_dataset['target'])))"
   ]
  },
  {
   "cell_type": "markdown",
   "metadata": {
    "id": "GfyiwUfnMNZg",
    "papermill": {
     "duration": 0.0207,
     "end_time": "2021-06-16T18:38:22.871732",
     "exception": false,
     "start_time": "2021-06-16T18:38:22.851032",
     "status": "completed"
    },
    "tags": []
   },
   "source": [
    "Shape of target"
   ]
  },
  {
   "cell_type": "code",
   "execution_count": 11,
   "metadata": {
    "execution": {
     "iopub.execute_input": "2021-06-16T18:38:22.918639Z",
     "iopub.status.busy": "2021-06-16T18:38:22.918008Z",
     "iopub.status.idle": "2021-06-16T18:38:22.920981Z",
     "shell.execute_reply": "2021-06-16T18:38:22.921631Z",
     "shell.execute_reply.started": "2021-06-16T18:36:48.677615Z"
    },
    "id": "F4KPdFXJMGnC",
    "outputId": "1ae66a50-38c6-4126-81d8-d777c61b72fe",
    "papermill": {
     "duration": 0.02942,
     "end_time": "2021-06-16T18:38:22.921852",
     "exception": false,
     "start_time": "2021-06-16T18:38:22.892432",
     "status": "completed"
    },
    "tags": []
   },
   "outputs": [
    {
     "name": "stdout",
     "output_type": "stream",
     "text": [
      "Shape of target:  (150,)\n"
     ]
    }
   ],
   "source": [
    "print(\"Shape of target:  {}\".format(iris_dataset[\"target\"].shape))"
   ]
  },
  {
   "cell_type": "markdown",
   "metadata": {
    "id": "y9YXDAjDM0Np",
    "papermill": {
     "duration": 0.022067,
     "end_time": "2021-06-16T18:38:22.967996",
     "exception": false,
     "start_time": "2021-06-16T18:38:22.945929",
     "status": "completed"
    },
    "tags": []
   },
   "source": [
    "On seeing the target key and exploring the values we can easily see that the species are enclosed as integers from 0 to 2\n"
   ]
  },
  {
   "cell_type": "code",
   "execution_count": 12,
   "metadata": {
    "execution": {
     "iopub.execute_input": "2021-06-16T18:38:23.016550Z",
     "iopub.status.busy": "2021-06-16T18:38:23.015865Z",
     "iopub.status.idle": "2021-06-16T18:38:23.023923Z",
     "shell.execute_reply": "2021-06-16T18:38:23.023397Z",
     "shell.execute_reply.started": "2021-06-16T18:36:49.597632Z"
    },
    "id": "0lJQ6cAOMyPm",
    "outputId": "598b0ec1-7ee2-4482-a86b-5fbb85fdd3db",
    "papermill": {
     "duration": 0.033269,
     "end_time": "2021-06-16T18:38:23.024084",
     "exception": false,
     "start_time": "2021-06-16T18:38:22.990815",
     "status": "completed"
    },
    "tags": []
   },
   "outputs": [
    {
     "name": "stdout",
     "output_type": "stream",
     "text": [
      "Target: \n",
      "[0 0 0 0 0 0 0 0 0 0 0 0 0 0 0 0 0 0 0 0 0 0 0 0 0 0 0 0 0 0 0 0 0 0 0 0 0\n",
      " 0 0 0 0 0 0 0 0 0 0 0 0 0 1 1 1 1 1 1 1 1 1 1 1 1 1 1 1 1 1 1 1 1 1 1 1 1\n",
      " 1 1 1 1 1 1 1 1 1 1 1 1 1 1 1 1 1 1 1 1 1 1 1 1 1 1 2 2 2 2 2 2 2 2 2 2 2\n",
      " 2 2 2 2 2 2 2 2 2 2 2 2 2 2 2 2 2 2 2 2 2 2 2 2 2 2 2 2 2 2 2 2 2 2 2 2 2\n",
      " 2 2]\n"
     ]
    }
   ],
   "source": [
    "print(\"Target: \\n{}\".format(iris_dataset['target']))"
   ]
  },
  {
   "cell_type": "markdown",
   "metadata": {
    "id": "-53oekSfNVhU",
    "papermill": {
     "duration": 0.022038,
     "end_time": "2021-06-16T18:38:23.069706",
     "exception": false,
     "start_time": "2021-06-16T18:38:23.047668",
     "status": "completed"
    },
    "tags": []
   },
   "source": [
    "The meaning of the numbers are given by the iris['target_names']array :0 means setosa, 1 means versicolor and 2 means virginica."
   ]
  },
  {
   "cell_type": "markdown",
   "metadata": {
    "id": "DaBocD5ed-MA",
    "papermill": {
     "duration": 0.020762,
     "end_time": "2021-06-16T18:38:23.112512",
     "exception": false,
     "start_time": "2021-06-16T18:38:23.091750",
     "status": "completed"
    },
    "tags": []
   },
   "source": [
    "Now we will build a machine learning model.For that we will split the labled data into two parts.One to build our model and other to test the new model.\n",
    "\n",
    "X represents the features and y represents the labels, random_state rearranges the data"
   ]
  },
  {
   "cell_type": "code",
   "execution_count": 13,
   "metadata": {
    "execution": {
     "iopub.execute_input": "2021-06-16T18:38:23.158662Z",
     "iopub.status.busy": "2021-06-16T18:38:23.158073Z",
     "iopub.status.idle": "2021-06-16T18:38:23.215386Z",
     "shell.execute_reply": "2021-06-16T18:38:23.214820Z",
     "shell.execute_reply.started": "2021-06-16T18:36:51.317034Z"
    },
    "id": "YUXb3YRfNP-H",
    "papermill": {
     "duration": 0.081495,
     "end_time": "2021-06-16T18:38:23.215583",
     "exception": false,
     "start_time": "2021-06-16T18:38:23.134088",
     "status": "completed"
    },
    "tags": []
   },
   "outputs": [],
   "source": [
    "from sklearn.model_selection import train_test_split\n",
    "X_train, X_test, y_train, y_test = train_test_split( iris_dataset['data'],\n",
    "                                iris_dataset['target'],random_state=0)"
   ]
  },
  {
   "cell_type": "markdown",
   "metadata": {
    "id": "GGRqTUutgpfl",
    "papermill": {
     "duration": 0.0212,
     "end_time": "2021-06-16T18:38:23.258378",
     "exception": false,
     "start_time": "2021-06-16T18:38:23.237178",
     "status": "completed"
    },
    "tags": []
   },
   "source": [
    "lets print the shape of X_train,X_test,y_train,y_test"
   ]
  },
  {
   "cell_type": "code",
   "execution_count": 14,
   "metadata": {
    "execution": {
     "iopub.execute_input": "2021-06-16T18:38:23.307517Z",
     "iopub.status.busy": "2021-06-16T18:38:23.306790Z",
     "iopub.status.idle": "2021-06-16T18:38:23.310587Z",
     "shell.execute_reply": "2021-06-16T18:38:23.310085Z",
     "shell.execute_reply.started": "2021-06-16T18:36:52.632514Z"
    },
    "id": "d8cLB8JVggnC",
    "outputId": "3382f9ef-963f-4616-d51a-52b5f9f40b91",
    "papermill": {
     "duration": 0.030668,
     "end_time": "2021-06-16T18:38:23.310723",
     "exception": false,
     "start_time": "2021-06-16T18:38:23.280055",
     "status": "completed"
    },
    "tags": []
   },
   "outputs": [
    {
     "name": "stdout",
     "output_type": "stream",
     "text": [
      "X_train shape:  (112, 4)\n",
      "X_test shape:  (38, 4)\n",
      "y_train shape:  (112,)\n",
      "y_test shape:  (38,)\n"
     ]
    }
   ],
   "source": [
    "print(\"X_train shape:  {}\".format(X_train.shape))\n",
    "print(\"X_test shape:  {}\".format(X_test.shape))\n",
    "print(\"y_train shape:  {}\".format(y_train.shape))\n",
    "print(\"y_test shape:  {}\".format(y_test.shape))"
   ]
  },
  {
   "cell_type": "markdown",
   "metadata": {
    "id": "wZJoSvRBiLyu",
    "papermill": {
     "duration": 0.021873,
     "end_time": "2021-06-16T18:38:23.355556",
     "exception": false,
     "start_time": "2021-06-16T18:38:23.333683",
     "status": "completed"
    },
    "tags": []
   },
   "source": [
    "k-nearest neighbour machine learning model"
   ]
  },
  {
   "cell_type": "code",
   "execution_count": 15,
   "metadata": {
    "execution": {
     "iopub.execute_input": "2021-06-16T18:38:23.403604Z",
     "iopub.status.busy": "2021-06-16T18:38:23.402955Z",
     "iopub.status.idle": "2021-06-16T18:38:23.556400Z",
     "shell.execute_reply": "2021-06-16T18:38:23.556878Z",
     "shell.execute_reply.started": "2021-06-16T18:36:53.826995Z"
    },
    "id": "efEvoLnFiC41",
    "papermill": {
     "duration": 0.179552,
     "end_time": "2021-06-16T18:38:23.557044",
     "exception": false,
     "start_time": "2021-06-16T18:38:23.377492",
     "status": "completed"
    },
    "tags": []
   },
   "outputs": [],
   "source": [
    "from sklearn.neighbors import KNeighborsClassifier\n",
    "knn= KNeighborsClassifier(n_neighbors=3)"
   ]
  },
  {
   "cell_type": "markdown",
   "metadata": {
    "id": "BcJ6oaNrjJ4L",
    "papermill": {
     "duration": 0.022025,
     "end_time": "2021-06-16T18:38:23.601077",
     "exception": false,
     "start_time": "2021-06-16T18:38:23.579052",
     "status": "completed"
    },
    "tags": []
   },
   "source": [
    "Training the model on the training data"
   ]
  },
  {
   "cell_type": "code",
   "execution_count": 16,
   "metadata": {
    "execution": {
     "iopub.execute_input": "2021-06-16T18:38:23.649817Z",
     "iopub.status.busy": "2021-06-16T18:38:23.649187Z",
     "iopub.status.idle": "2021-06-16T18:38:23.657836Z",
     "shell.execute_reply": "2021-06-16T18:38:23.657382Z",
     "shell.execute_reply.started": "2021-06-16T18:36:55.116951Z"
    },
    "id": "xnQr15PQjIVA",
    "outputId": "15fb81d0-5d09-42e2-efe6-4f9879a9dbf5",
    "papermill": {
     "duration": 0.034897,
     "end_time": "2021-06-16T18:38:23.658002",
     "exception": false,
     "start_time": "2021-06-16T18:38:23.623105",
     "status": "completed"
    },
    "tags": []
   },
   "outputs": [
    {
     "data": {
      "text/plain": [
       "KNeighborsClassifier(n_neighbors=3)"
      ]
     },
     "execution_count": 16,
     "metadata": {},
     "output_type": "execute_result"
    }
   ],
   "source": [
    "knn.fit(X_train, y_train)"
   ]
  },
  {
   "cell_type": "markdown",
   "metadata": {
    "id": "caoHbyWukd6k",
    "papermill": {
     "duration": 0.02261,
     "end_time": "2021-06-16T18:38:23.703616",
     "exception": false,
     "start_time": "2021-06-16T18:38:23.681006",
     "status": "completed"
    },
    "tags": []
   },
   "source": [
    "lets predict whether oru model is correct"
   ]
  },
  {
   "cell_type": "code",
   "execution_count": 17,
   "metadata": {
    "execution": {
     "iopub.execute_input": "2021-06-16T18:38:23.753443Z",
     "iopub.status.busy": "2021-06-16T18:38:23.752884Z",
     "iopub.status.idle": "2021-06-16T18:38:23.755571Z",
     "shell.execute_reply": "2021-06-16T18:38:23.755981Z",
     "shell.execute_reply.started": "2021-06-16T18:36:56.482681Z"
    },
    "id": "ze11bMp9jkJ0",
    "outputId": "3887692a-3504-4597-bb8d-0ced94f00c92",
    "papermill": {
     "duration": 0.030327,
     "end_time": "2021-06-16T18:38:23.756138",
     "exception": false,
     "start_time": "2021-06-16T18:38:23.725811",
     "status": "completed"
    },
    "tags": []
   },
   "outputs": [
    {
     "name": "stdout",
     "output_type": "stream",
     "text": [
      "X_new.shape:  (1, 4)\n"
     ]
    }
   ],
   "source": [
    "X_new = np.array([[5,2.9,1,0.2]])\n",
    "print(\"X_new.shape:  {}\".format(X_new.shape))\n"
   ]
  },
  {
   "cell_type": "markdown",
   "metadata": {
    "id": "5UwPPqg5leEI",
    "papermill": {
     "duration": 0.021245,
     "end_time": "2021-06-16T18:38:23.799644",
     "exception": false,
     "start_time": "2021-06-16T18:38:23.778399",
     "status": "completed"
    },
    "tags": []
   },
   "source": [
    "To make the prediction we call the predict method of the knn object"
   ]
  },
  {
   "cell_type": "code",
   "execution_count": 18,
   "metadata": {
    "execution": {
     "iopub.execute_input": "2021-06-16T18:38:23.847083Z",
     "iopub.status.busy": "2021-06-16T18:38:23.846108Z",
     "iopub.status.idle": "2021-06-16T18:38:23.854138Z",
     "shell.execute_reply": "2021-06-16T18:38:23.853631Z",
     "shell.execute_reply.started": "2021-06-16T18:36:57.723058Z"
    },
    "id": "lJV-kTa3kZL6",
    "outputId": "7fbfb649-f90c-4aec-b5ae-043e507b487a",
    "papermill": {
     "duration": 0.032743,
     "end_time": "2021-06-16T18:38:23.854351",
     "exception": false,
     "start_time": "2021-06-16T18:38:23.821608",
     "status": "completed"
    },
    "tags": []
   },
   "outputs": [
    {
     "name": "stdout",
     "output_type": "stream",
     "text": [
      "Prediction:  [0]\n",
      "Predicted target name:  ['setosa']\n"
     ]
    }
   ],
   "source": [
    "prediction= knn.predict(X_new)\n",
    "print(\"Prediction:  {}\".format(prediction))\n",
    "print(\"Predicted target name:  {}\".format(iris_dataset['target_names'][prediction]))"
   ]
  },
  {
   "cell_type": "markdown",
   "metadata": {
    "id": "83tM-mzPmUsh",
    "papermill": {
     "duration": 0.021841,
     "end_time": "2021-06-16T18:38:23.898653",
     "exception": false,
     "start_time": "2021-06-16T18:38:23.876812",
     "status": "completed"
    },
    "tags": []
   },
   "source": [
    "Now we predict each iris in the test data"
   ]
  },
  {
   "cell_type": "code",
   "execution_count": 19,
   "metadata": {
    "execution": {
     "iopub.execute_input": "2021-06-16T18:38:23.950322Z",
     "iopub.status.busy": "2021-06-16T18:38:23.949598Z",
     "iopub.status.idle": "2021-06-16T18:38:23.955315Z",
     "shell.execute_reply": "2021-06-16T18:38:23.954756Z",
     "shell.execute_reply.started": "2021-06-16T18:37:00.962246Z"
    },
    "id": "iKhD-k0OmHYg",
    "outputId": "9b80f67f-aad3-4872-c1cc-d6428e72f774",
    "papermill": {
     "duration": 0.034656,
     "end_time": "2021-06-16T18:38:23.955453",
     "exception": false,
     "start_time": "2021-06-16T18:38:23.920797",
     "status": "completed"
    },
    "tags": []
   },
   "outputs": [
    {
     "name": "stdout",
     "output_type": "stream",
     "text": [
      "Test set prediction:\n",
      "  [2 1 0 2 0 2 0 1 1 1 2 1 1 1 1 0 1 1 0 0 2 1 0 0 2 0 0 1 1 0 2 1 0 2 2 1 0\n",
      " 2]\n"
     ]
    }
   ],
   "source": [
    "y_pred = knn.predict(X_test)\n",
    "print(\"Test set prediction:\\n  {}\".format(y_pred))"
   ]
  },
  {
   "cell_type": "markdown",
   "metadata": {
    "id": "4A4hFWKMnHt3",
    "papermill": {
     "duration": 0.022373,
     "end_time": "2021-06-16T18:38:24.000335",
     "exception": false,
     "start_time": "2021-06-16T18:38:23.977962",
     "status": "completed"
    },
    "tags": []
   },
   "source": [
    "And we compare it against its labels.And so we get the accuracy of our model"
   ]
  },
  {
   "cell_type": "code",
   "execution_count": 20,
   "metadata": {
    "execution": {
     "iopub.execute_input": "2021-06-16T18:38:24.048443Z",
     "iopub.status.busy": "2021-06-16T18:38:24.047656Z",
     "iopub.status.idle": "2021-06-16T18:38:24.054082Z",
     "shell.execute_reply": "2021-06-16T18:38:24.053438Z",
     "shell.execute_reply.started": "2021-06-16T18:37:01.127424Z"
    },
    "id": "mkK0_QHtm-aH",
    "outputId": "92769abd-5f18-4078-b1c9-89d0a4971228",
    "papermill": {
     "duration": 0.031481,
     "end_time": "2021-06-16T18:38:24.054247",
     "exception": false,
     "start_time": "2021-06-16T18:38:24.022766",
     "status": "completed"
    },
    "tags": []
   },
   "outputs": [
    {
     "name": "stdout",
     "output_type": "stream",
     "text": [
      "Test set score:  0.9736842105263158\n"
     ]
    }
   ],
   "source": [
    "print(\"Test set score:  {}\".format(np.mean(y_pred == y_test)))"
   ]
  },
  {
   "cell_type": "code",
   "execution_count": null,
   "metadata": {
    "papermill": {
     "duration": 0.022644,
     "end_time": "2021-06-16T18:38:24.100397",
     "exception": false,
     "start_time": "2021-06-16T18:38:24.077753",
     "status": "completed"
    },
    "tags": []
   },
   "outputs": [],
   "source": []
  }
 ],
 "metadata": {
  "kernelspec": {
   "display_name": "Python 3",
   "language": "python",
   "name": "python3"
  },
  "language_info": {
   "codemirror_mode": {
    "name": "ipython",
    "version": 3
   },
   "file_extension": ".py",
   "mimetype": "text/x-python",
   "name": "python",
   "nbconvert_exporter": "python",
   "pygments_lexer": "ipython3",
   "version": "3.7.4"
  },
  "papermill": {
   "default_parameters": {},
   "duration": 11.581422,
   "end_time": "2021-06-16T18:38:24.933037",
   "environment_variables": {},
   "exception": null,
   "input_path": "__notebook__.ipynb",
   "output_path": "__notebook__.ipynb",
   "parameters": {},
   "start_time": "2021-06-16T18:38:13.351615",
   "version": "2.3.3"
  }
 },
 "nbformat": 4,
 "nbformat_minor": 5
}
